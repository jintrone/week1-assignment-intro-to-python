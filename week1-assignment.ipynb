{
 "cells": [
  {
   "cell_type": "markdown",
   "metadata": {},
   "source": [
    "# Python Exercises\n",
    "\n",
    "The following provides a very brief introduction to some of the basics of Python. If any of this seems new, please work on your own to learn the basics.  W3Schools' [online python tutorial](https://www.w3schools.com/python/default.asp) is a great place to start.  Official documentation for python can be found [here](https://docs.python.org/3.10/). "
   ]
  },
  {
   "cell_type": "markdown",
   "metadata": {},
   "source": [
    "## Exercise 1: Loop Iteration\n",
    "\n",
    "A loop in Python is used to iterate over a sequence (like a list, tuple, or string) and execute a block of code for each item in the sequence. The for loop is one of the most common loops in Python.\n",
    "\n",
    "For example:"
   ]
  },
  {
   "cell_type": "code",
   "execution_count": 2,
   "metadata": {},
   "outputs": [
    {
     "name": "stdout",
     "output_type": "stream",
     "text": [
      "1\n",
      "2\n",
      "3\n",
      "4\n",
      "5\n",
      "6\n",
      "7\n",
      "8\n",
      "9\n",
      "10\n"
     ]
    }
   ],
   "source": [
    "# This is a loop from 1 to 10\n",
    "for i in range(1, 11):\n",
    "    print(i)"
   ]
  },
  {
   "cell_type": "markdown",
   "metadata": {},
   "source": [
    "### Task\n",
    "\n",
    "Create a loop that prints numbers from 0 to 20, counting by 2's.  **HINT**:  Look up the syntax of the [range](https://www.w3schools.com/python/ref_func_range.asp) function."
   ]
  },
  {
   "cell_type": "code",
   "execution_count": 4,
   "metadata": {},
   "outputs": [],
   "source": [
    "# Place your code here"
   ]
  },
  {
   "cell_type": "markdown",
   "metadata": {},
   "source": [
    "## Exercise 2: Define a Function\n",
    "\n",
    "In Python, a function is a reusable block of code that performs a specific task. You define a function using the def keyword, followed by the function name, parameters in parentheses, and a colon. The function body follows the colon and is indented.  You \"call\" a function, by typing the name of the function and putting an required parameters in parenthses.\n",
    "\n",
    "For example:"
   ]
  },
  {
   "cell_type": "code",
   "execution_count": 3,
   "metadata": {},
   "outputs": [
    {
     "data": {
      "text/plain": [
       "100"
      ]
     },
     "execution_count": 3,
     "metadata": {},
     "output_type": "execute_result"
    }
   ],
   "source": [
    "def square(num):\n",
    "    return num * num\n",
    "\n",
    "square(10)"
   ]
  },
  {
   "cell_type": "markdown",
   "metadata": {},
   "source": [
    "### Task\n",
    "\n",
    "Create a function that returns the sqaure root of a number.  **HINT**:  Look up how to use the [math library](https://www.w3schools.com/python/python_math.asp)."
   ]
  },
  {
   "cell_type": "code",
   "execution_count": null,
   "metadata": {},
   "outputs": [],
   "source": [
    "# Place your code here"
   ]
  },
  {
   "cell_type": "markdown",
   "metadata": {},
   "source": [
    "## Exercise 3: Import Libraries\n",
    "\n",
    "Libraries in Python are collections of functions and methods that allow you to perform many actions without writing much code. To use a library, you first have to import it using the import keyword.  If you did the previous assignment, you imported the `math` library. You can also give libraries an alias to make them easier to reference in your code.\n",
    "\n",
    "For example, `numpy` is a library containing many advanced mathematical routines.  Very often you will see it imported like this:"
   ]
  },
  {
   "cell_type": "code",
   "execution_count": 6,
   "metadata": {},
   "outputs": [
    {
     "data": {
      "text/plain": [
       "array([2., 3., 5.])"
      ]
     },
     "execution_count": 6,
     "metadata": {},
     "output_type": "execute_result"
    }
   ],
   "source": [
    "import numpy as np\n",
    "\n",
    "np.sqrt([4,9,25])"
   ]
  },
  {
   "cell_type": "markdown",
   "metadata": {},
   "source": [
    "### Task\n",
    "\n",
    "Import the scipy constants library and print out the speed of light.  **Hint** look at a tutorial on [scipy](https://www.w3schools.com/python/scipy/index.php). "
   ]
  },
  {
   "cell_type": "markdown",
   "metadata": {},
   "source": [
    "## Exercise 4: Working with Lists\n",
    "\n",
    "Lists are one of the most common data structures in Python. They are ordered, mutable (changeable), and allow duplicate members.\n",
    "\n",
    "For example, to create a list of numbers and append a new number:"
   ]
  },
  {
   "cell_type": "code",
   "execution_count": 7,
   "metadata": {},
   "outputs": [
    {
     "name": "stdout",
     "output_type": "stream",
     "text": [
      "[1, 2, 3, 4, 5, 6]\n"
     ]
    }
   ],
   "source": [
    "numbers = [1, 2, 3, 4, 5]\n",
    "numbers.append(6)\n",
    "print(numbers)"
   ]
  },
  {
   "cell_type": "markdown",
   "metadata": {},
   "source": [
    "### Task\n",
    "\n",
    "Create a list of fruits and add \"Grape\" to the list."
   ]
  },
  {
   "cell_type": "code",
   "execution_count": 15,
   "metadata": {},
   "outputs": [],
   "source": [
    "# Place code here"
   ]
  },
  {
   "cell_type": "markdown",
   "metadata": {},
   "source": [
    "## Exercise 5: Conditional Statements\n",
    "\n",
    "Conditional statements in Python allow you to perform different actions depending on whether a specified condition evaluates to true or false.\n",
    "\n",
    "Here's how you use an if-else statement to check if a number is even or odd:"
   ]
  },
  {
   "cell_type": "code",
   "execution_count": 8,
   "metadata": {},
   "outputs": [
    {
     "name": "stdout",
     "output_type": "stream",
     "text": [
      "Odd\n"
     ]
    }
   ],
   "source": [
    "num = 5\n",
    "if num % 2 == 0:\n",
    "    print(\"Even\")\n",
    "else:\n",
    "    print(\"Odd\")"
   ]
  },
  {
   "cell_type": "markdown",
   "metadata": {},
   "source": [
    "### Task\n",
    "\n",
    "Write a conditional statement to check if a number is positive, negative, or zero."
   ]
  },
  {
   "cell_type": "code",
   "execution_count": 9,
   "metadata": {},
   "outputs": [],
   "source": [
    "# Place code here"
   ]
  },
  {
   "cell_type": "markdown",
   "metadata": {},
   "source": [
    "## Exercise 6: Working with Dictionaries\n",
    "Dictionaries are key-value pairs where the value can be almost any Python object. They are unordered, changeable, and indexed by keys.\n",
    "\n",
    "To create a dictionary and access the value for a given key:"
   ]
  },
  {
   "cell_type": "code",
   "execution_count": 10,
   "metadata": {},
   "outputs": [
    {
     "name": "stdout",
     "output_type": "stream",
     "text": [
      "John\n"
     ]
    }
   ],
   "source": [
    "student = {\"name\": \"John\", \"age\": 25, \"course\": \"Computer Science\"}\n",
    "print(student[\"name\"])"
   ]
  },
  {
   "cell_type": "markdown",
   "metadata": {},
   "source": [
    "### Task \n",
    "\n",
    "Create a dictionary that represents a book with keys: \"title\", \"author\", and \"year_published\". Access and print the book's title."
   ]
  },
  {
   "cell_type": "code",
   "execution_count": null,
   "metadata": {},
   "outputs": [],
   "source": []
  },
  {
   "cell_type": "markdown",
   "metadata": {},
   "source": [
    "## Exercise 7: String Manipulation\n",
    "Strings in Python are arrays of bytes representing Unicode characters. Python has a set of built-in methods to manipulate strings.\n",
    "\n",
    "Here's how you can concatenate strings and change the case:"
   ]
  },
  {
   "cell_type": "code",
   "execution_count": 11,
   "metadata": {},
   "outputs": [
    {
     "name": "stdout",
     "output_type": "stream",
     "text": [
      "Hello, WORLD!\n"
     ]
    }
   ],
   "source": [
    "greeting = \"hello\"\n",
    "name = \"world\"\n",
    "message = greeting.capitalize() + \", \" + name.upper() + \"!\"\n",
    "print(message)"
   ]
  },
  {
   "cell_type": "markdown",
   "metadata": {},
   "source": [
    "### Task\n",
    "\n",
    "Take the string \"python is awesome\" and transform it to \"PYTHON IS AWESOME\".\n"
   ]
  },
  {
   "cell_type": "code",
   "execution_count": 16,
   "metadata": {},
   "outputs": [],
   "source": [
    "# Place code here"
   ]
  },
  {
   "cell_type": "markdown",
   "metadata": {},
   "source": [
    "## Exercise 9: List Comprehensions\n",
    "List comprehensions provide a concise way to create lists. They can be used to create a new list by performing some operation on each item in an existing list (or other iterable).\n",
    "\n",
    "Here's how you can create a list of squares for numbers from 1 to 5:"
   ]
  },
  {
   "cell_type": "code",
   "execution_count": 13,
   "metadata": {},
   "outputs": [
    {
     "name": "stdout",
     "output_type": "stream",
     "text": [
      "[1, 4, 9, 16, 25]\n"
     ]
    }
   ],
   "source": [
    "squares = [x**2 for x in range(1, 6)]\n",
    "print(squares)"
   ]
  },
  {
   "cell_type": "markdown",
   "metadata": {},
   "source": [
    "### Task\n",
    "\n",
    "Using list comprehension, generate a list of cubes for numbers from 1 to 7."
   ]
  },
  {
   "cell_type": "code",
   "execution_count": 14,
   "metadata": {},
   "outputs": [],
   "source": [
    "# Place code here"
   ]
  },
  {
   "cell_type": "markdown",
   "metadata": {},
   "source": [
    "## Exercise 8: Exception Handling\n",
    "\n",
    "Python has built-in mechanisms for handling errors or exceptions. This allows the programmer to gracefully handle unexpected situations and prevent the program from crashing.\n",
    "\n",
    "Here's how you can handle a division by zero error using try-except:"
   ]
  },
  {
   "cell_type": "code",
   "execution_count": 12,
   "metadata": {},
   "outputs": [
    {
     "name": "stdout",
     "output_type": "stream",
     "text": [
      "Cannot divide by zero!\n"
     ]
    }
   ],
   "source": [
    "try:\n",
    "    result = 10 / 0\n",
    "except ZeroDivisionError:\n",
    "    print(\"Cannot divide by zero!\")"
   ]
  },
  {
   "cell_type": "markdown",
   "metadata": {},
   "source": [
    "### Task\n",
    "\n",
    "Write a piece of code that tries to access a key that doesn't exist in a dictionary, and handle the resulting KeyError exception gracefully."
   ]
  },
  {
   "cell_type": "code",
   "execution_count": 17,
   "metadata": {},
   "outputs": [],
   "source": [
    "# Place code here"
   ]
  },
  {
   "cell_type": "markdown",
   "metadata": {},
   "source": [
    "# Pandas Exercises"
   ]
  },
  {
   "cell_type": "markdown",
   "metadata": {},
   "source": [
    "Pandas is a powerful and popular data analysis library for Python. It provides data structures for efficiently storing large datasets and tools for reshaping, aggregating, merging, and summarizing data.\n",
    "\n",
    "In order to work with Pandas, it's helpful to have a little sample data to work with.  Execute the following cell to generate some \"fake\" data.  This will create a new Pandas DataFrame and assign it to a variable `df`.  "
   ]
  },
  {
   "cell_type": "code",
   "execution_count": 19,
   "metadata": {},
   "outputs": [
    {
     "data": {
      "text/html": [
       "<div>\n",
       "<style scoped>\n",
       "    .dataframe tbody tr th:only-of-type {\n",
       "        vertical-align: middle;\n",
       "    }\n",
       "\n",
       "    .dataframe tbody tr th {\n",
       "        vertical-align: top;\n",
       "    }\n",
       "\n",
       "    .dataframe thead th {\n",
       "        text-align: right;\n",
       "    }\n",
       "</style>\n",
       "<table border=\"1\" class=\"dataframe\">\n",
       "  <thead>\n",
       "    <tr style=\"text-align: right;\">\n",
       "      <th></th>\n",
       "      <th>Price</th>\n",
       "      <th>Region</th>\n",
       "      <th>Product</th>\n",
       "      <th>Quantity Sold</th>\n",
       "      <th>Sales Rep</th>\n",
       "    </tr>\n",
       "  </thead>\n",
       "  <tbody>\n",
       "    <tr>\n",
       "      <th>0</th>\n",
       "      <td>43.708611</td>\n",
       "      <td>W</td>\n",
       "      <td>Tablet</td>\n",
       "      <td>46</td>\n",
       "      <td>Frank</td>\n",
       "    </tr>\n",
       "    <tr>\n",
       "      <th>1</th>\n",
       "      <td>95.564288</td>\n",
       "      <td>SW</td>\n",
       "      <td>Laptop</td>\n",
       "      <td>5</td>\n",
       "      <td>Hannah</td>\n",
       "    </tr>\n",
       "    <tr>\n",
       "      <th>2</th>\n",
       "      <td>75.879455</td>\n",
       "      <td>SE</td>\n",
       "      <td>Desktop</td>\n",
       "      <td>2</td>\n",
       "      <td>Charlie</td>\n",
       "    </tr>\n",
       "    <tr>\n",
       "      <th>3</th>\n",
       "      <td>63.879264</td>\n",
       "      <td>NE</td>\n",
       "      <td>Smartwatch</td>\n",
       "      <td>14</td>\n",
       "      <td>David</td>\n",
       "    </tr>\n",
       "    <tr>\n",
       "      <th>4</th>\n",
       "      <td>24.041678</td>\n",
       "      <td>W</td>\n",
       "      <td>Tablet</td>\n",
       "      <td>2</td>\n",
       "      <td>Eve</td>\n",
       "    </tr>\n",
       "    <tr>\n",
       "      <th>...</th>\n",
       "      <td>...</td>\n",
       "      <td>...</td>\n",
       "      <td>...</td>\n",
       "      <td>...</td>\n",
       "      <td>...</td>\n",
       "    </tr>\n",
       "    <tr>\n",
       "      <th>195</th>\n",
       "      <td>41.428862</td>\n",
       "      <td>SW</td>\n",
       "      <td>Tablet</td>\n",
       "      <td>7</td>\n",
       "      <td>Frank</td>\n",
       "    </tr>\n",
       "    <tr>\n",
       "      <th>196</th>\n",
       "      <td>75.336011</td>\n",
       "      <td>S</td>\n",
       "      <td>Tablet</td>\n",
       "      <td>44</td>\n",
       "      <td>Grace</td>\n",
       "    </tr>\n",
       "    <tr>\n",
       "      <th>197</th>\n",
       "      <td>90.739923</td>\n",
       "      <td>E</td>\n",
       "      <td>Tablet</td>\n",
       "      <td>16</td>\n",
       "      <td>Frank</td>\n",
       "    </tr>\n",
       "    <tr>\n",
       "      <th>198</th>\n",
       "      <td>89.837778</td>\n",
       "      <td>SW</td>\n",
       "      <td>Tablet</td>\n",
       "      <td>20</td>\n",
       "      <td>Frank</td>\n",
       "    </tr>\n",
       "    <tr>\n",
       "      <th>199</th>\n",
       "      <td>80.188799</td>\n",
       "      <td>N</td>\n",
       "      <td>Smartphone</td>\n",
       "      <td>36</td>\n",
       "      <td>Frank</td>\n",
       "    </tr>\n",
       "  </tbody>\n",
       "</table>\n",
       "<p>200 rows × 5 columns</p>\n",
       "</div>"
      ],
      "text/plain": [
       "         Price Region     Product  Quantity Sold Sales Rep\n",
       "0    43.708611      W      Tablet             46     Frank\n",
       "1    95.564288     SW      Laptop              5    Hannah\n",
       "2    75.879455     SE     Desktop              2   Charlie\n",
       "3    63.879264     NE  Smartwatch             14     David\n",
       "4    24.041678      W      Tablet              2       Eve\n",
       "..         ...    ...         ...            ...       ...\n",
       "195  41.428862     SW      Tablet              7     Frank\n",
       "196  75.336011      S      Tablet             44     Grace\n",
       "197  90.739923      E      Tablet             16     Frank\n",
       "198  89.837778     SW      Tablet             20     Frank\n",
       "199  80.188799      N  Smartphone             36     Frank\n",
       "\n",
       "[200 rows x 5 columns]"
      ]
     },
     "execution_count": 19,
     "metadata": {},
     "output_type": "execute_result"
    }
   ],
   "source": [
    "import random\n",
    "import pandas as pd\n",
    "import numpy as np\n",
    "\n",
    "# Set a random seed for reproducibility\n",
    "np.random.seed(42)\n",
    "\n",
    "# Generate sample data\n",
    "regions = ['NE', 'NW', 'SE', 'SW', 'S', 'N', 'E', 'W']\n",
    "data = {\n",
    "    'Price': np.random.uniform(10, 100, 200),\n",
    "    'Region': np.random.choice(regions, 200)\n",
    "}\n",
    "\n",
    "# Convert data to a pandas DataFrame\n",
    "df = pd.DataFrame(data)\n",
    "\n",
    "# Randomly generate \"Product\" data\n",
    "products = ['Laptop', 'Desktop', 'Tablet', 'Smartphone', 'Smartwatch', 'Headphones']\n",
    "product_data = [random.choice(products) for _ in range(200)]\n",
    "\n",
    "# Randomly generate \"Quantity Sold\" data\n",
    "quantity_data = [random.randint(1, 50) for _ in range(200)]\n",
    "\n",
    "# Randomly generate \"Sales Rep\" data\n",
    "sales_reps = ['Alice', 'Bob', 'Charlie', 'David', 'Eve', 'Frank', 'Grace', 'Hannah']\n",
    "sales_rep_data = [random.choice(sales_reps) for _ in range(200)]\n",
    "\n",
    "# Add these columns to the dataframe\n",
    "df['Product'] = product_data\n",
    "df['Quantity Sold'] = quantity_data\n",
    "df['Sales Rep'] = sales_rep_data\n",
    "\n",
    "df"
   ]
  },
  {
   "cell_type": "markdown",
   "metadata": {},
   "source": [
    "## Exercise 1: Filtering Data\n",
    "\n",
    "Pandas allows for row selection using boolean indexing. This is similar to SQL's WHERE clause. You can filter rows based on column values.\n",
    "\n",
    "Here's how you filter data to select rows where Price > 30 and Region is 'NE':"
   ]
  },
  {
   "cell_type": "code",
   "execution_count": 20,
   "metadata": {},
   "outputs": [
    {
     "data": {
      "text/html": [
       "<div>\n",
       "<style scoped>\n",
       "    .dataframe tbody tr th:only-of-type {\n",
       "        vertical-align: middle;\n",
       "    }\n",
       "\n",
       "    .dataframe tbody tr th {\n",
       "        vertical-align: top;\n",
       "    }\n",
       "\n",
       "    .dataframe thead th {\n",
       "        text-align: right;\n",
       "    }\n",
       "</style>\n",
       "<table border=\"1\" class=\"dataframe\">\n",
       "  <thead>\n",
       "    <tr style=\"text-align: right;\">\n",
       "      <th></th>\n",
       "      <th>Price</th>\n",
       "      <th>Region</th>\n",
       "      <th>Product</th>\n",
       "      <th>Quantity Sold</th>\n",
       "      <th>Sales Rep</th>\n",
       "    </tr>\n",
       "  </thead>\n",
       "  <tbody>\n",
       "    <tr>\n",
       "      <th>3</th>\n",
       "      <td>63.879264</td>\n",
       "      <td>NE</td>\n",
       "      <td>Smartwatch</td>\n",
       "      <td>14</td>\n",
       "      <td>David</td>\n",
       "    </tr>\n",
       "    <tr>\n",
       "      <th>28</th>\n",
       "      <td>63.317311</td>\n",
       "      <td>NE</td>\n",
       "      <td>Smartwatch</td>\n",
       "      <td>43</td>\n",
       "      <td>Grace</td>\n",
       "    </tr>\n",
       "    <tr>\n",
       "      <th>30</th>\n",
       "      <td>64.679037</td>\n",
       "      <td>NE</td>\n",
       "      <td>Smartwatch</td>\n",
       "      <td>28</td>\n",
       "      <td>Hannah</td>\n",
       "    </tr>\n",
       "    <tr>\n",
       "      <th>63</th>\n",
       "      <td>42.107799</td>\n",
       "      <td>NE</td>\n",
       "      <td>Tablet</td>\n",
       "      <td>14</td>\n",
       "      <td>Hannah</td>\n",
       "    </tr>\n",
       "    <tr>\n",
       "      <th>67</th>\n",
       "      <td>82.197728</td>\n",
       "      <td>NE</td>\n",
       "      <td>Laptop</td>\n",
       "      <td>15</td>\n",
       "      <td>Frank</td>\n",
       "    </tr>\n",
       "    <tr>\n",
       "      <th>76</th>\n",
       "      <td>79.414331</td>\n",
       "      <td>NE</td>\n",
       "      <td>Desktop</td>\n",
       "      <td>5</td>\n",
       "      <td>Frank</td>\n",
       "    </tr>\n",
       "    <tr>\n",
       "      <th>78</th>\n",
       "      <td>42.261916</td>\n",
       "      <td>NE</td>\n",
       "      <td>Smartphone</td>\n",
       "      <td>13</td>\n",
       "      <td>Grace</td>\n",
       "    </tr>\n",
       "    <tr>\n",
       "      <th>88</th>\n",
       "      <td>89.849147</td>\n",
       "      <td>NE</td>\n",
       "      <td>Headphones</td>\n",
       "      <td>19</td>\n",
       "      <td>Bob</td>\n",
       "    </tr>\n",
       "    <tr>\n",
       "      <th>92</th>\n",
       "      <td>78.470654</td>\n",
       "      <td>NE</td>\n",
       "      <td>Tablet</td>\n",
       "      <td>27</td>\n",
       "      <td>Bob</td>\n",
       "    </tr>\n",
       "    <tr>\n",
       "      <th>105</th>\n",
       "      <td>32.436301</td>\n",
       "      <td>NE</td>\n",
       "      <td>Smartwatch</td>\n",
       "      <td>33</td>\n",
       "      <td>Bob</td>\n",
       "    </tr>\n",
       "    <tr>\n",
       "      <th>110</th>\n",
       "      <td>36.077631</td>\n",
       "      <td>NE</td>\n",
       "      <td>Smartphone</td>\n",
       "      <td>1</td>\n",
       "      <td>Frank</td>\n",
       "    </tr>\n",
       "    <tr>\n",
       "      <th>130</th>\n",
       "      <td>47.566990</td>\n",
       "      <td>NE</td>\n",
       "      <td>Laptop</td>\n",
       "      <td>47</td>\n",
       "      <td>Charlie</td>\n",
       "    </tr>\n",
       "    <tr>\n",
       "      <th>133</th>\n",
       "      <td>40.385365</td>\n",
       "      <td>NE</td>\n",
       "      <td>Smartwatch</td>\n",
       "      <td>29</td>\n",
       "      <td>Grace</td>\n",
       "    </tr>\n",
       "    <tr>\n",
       "      <th>144</th>\n",
       "      <td>35.635644</td>\n",
       "      <td>NE</td>\n",
       "      <td>Smartwatch</td>\n",
       "      <td>48</td>\n",
       "      <td>David</td>\n",
       "    </tr>\n",
       "    <tr>\n",
       "      <th>150</th>\n",
       "      <td>91.743930</td>\n",
       "      <td>NE</td>\n",
       "      <td>Tablet</td>\n",
       "      <td>22</td>\n",
       "      <td>Grace</td>\n",
       "    </tr>\n",
       "    <tr>\n",
       "      <th>154</th>\n",
       "      <td>98.708541</td>\n",
       "      <td>NE</td>\n",
       "      <td>Laptop</td>\n",
       "      <td>36</td>\n",
       "      <td>Charlie</td>\n",
       "    </tr>\n",
       "    <tr>\n",
       "      <th>172</th>\n",
       "      <td>56.088375</td>\n",
       "      <td>NE</td>\n",
       "      <td>Headphones</td>\n",
       "      <td>30</td>\n",
       "      <td>Grace</td>\n",
       "    </tr>\n",
       "  </tbody>\n",
       "</table>\n",
       "</div>"
      ],
      "text/plain": [
       "         Price Region     Product  Quantity Sold Sales Rep\n",
       "3    63.879264     NE  Smartwatch             14     David\n",
       "28   63.317311     NE  Smartwatch             43     Grace\n",
       "30   64.679037     NE  Smartwatch             28    Hannah\n",
       "63   42.107799     NE      Tablet             14    Hannah\n",
       "67   82.197728     NE      Laptop             15     Frank\n",
       "76   79.414331     NE     Desktop              5     Frank\n",
       "78   42.261916     NE  Smartphone             13     Grace\n",
       "88   89.849147     NE  Headphones             19       Bob\n",
       "92   78.470654     NE      Tablet             27       Bob\n",
       "105  32.436301     NE  Smartwatch             33       Bob\n",
       "110  36.077631     NE  Smartphone              1     Frank\n",
       "130  47.566990     NE      Laptop             47   Charlie\n",
       "133  40.385365     NE  Smartwatch             29     Grace\n",
       "144  35.635644     NE  Smartwatch             48     David\n",
       "150  91.743930     NE      Tablet             22     Grace\n",
       "154  98.708541     NE      Laptop             36   Charlie\n",
       "172  56.088375     NE  Headphones             30     Grace"
      ]
     },
     "execution_count": 20,
     "metadata": {},
     "output_type": "execute_result"
    }
   ],
   "source": [
    "filtered_data = df[(df['Price'] > 30) & (df['Region'] == 'NE')]\n",
    "filtered_data"
   ]
  },
  {
   "cell_type": "markdown",
   "metadata": {},
   "source": [
    "### Task \n",
    "\n",
    "Use pandas to select rows where Price < 30 and the Region is one of \"S\" or \"SE\"."
   ]
  },
  {
   "cell_type": "code",
   "execution_count": 22,
   "metadata": {},
   "outputs": [],
   "source": [
    "#Place code here"
   ]
  },
  {
   "cell_type": "markdown",
   "metadata": {},
   "source": [
    "## Exercise 2: Applying Functions to Columns\n",
    "\n",
    "In Pandas, you can apply a function to a column using the apply() method. This is useful for transforming data or creating new columns based on existing ones.\n",
    "\n",
    "Here's how you create a new column called Discounted_Price that is 90% of the Price column:"
   ]
  },
  {
   "cell_type": "code",
   "execution_count": 23,
   "metadata": {},
   "outputs": [
    {
     "data": {
      "text/html": [
       "<div>\n",
       "<style scoped>\n",
       "    .dataframe tbody tr th:only-of-type {\n",
       "        vertical-align: middle;\n",
       "    }\n",
       "\n",
       "    .dataframe tbody tr th {\n",
       "        vertical-align: top;\n",
       "    }\n",
       "\n",
       "    .dataframe thead th {\n",
       "        text-align: right;\n",
       "    }\n",
       "</style>\n",
       "<table border=\"1\" class=\"dataframe\">\n",
       "  <thead>\n",
       "    <tr style=\"text-align: right;\">\n",
       "      <th></th>\n",
       "      <th>Price</th>\n",
       "      <th>Region</th>\n",
       "      <th>Product</th>\n",
       "      <th>Quantity Sold</th>\n",
       "      <th>Sales Rep</th>\n",
       "      <th>Discounted_Price</th>\n",
       "    </tr>\n",
       "  </thead>\n",
       "  <tbody>\n",
       "    <tr>\n",
       "      <th>0</th>\n",
       "      <td>43.708611</td>\n",
       "      <td>W</td>\n",
       "      <td>Tablet</td>\n",
       "      <td>46</td>\n",
       "      <td>Frank</td>\n",
       "      <td>39.337750</td>\n",
       "    </tr>\n",
       "    <tr>\n",
       "      <th>1</th>\n",
       "      <td>95.564288</td>\n",
       "      <td>SW</td>\n",
       "      <td>Laptop</td>\n",
       "      <td>5</td>\n",
       "      <td>Hannah</td>\n",
       "      <td>86.007859</td>\n",
       "    </tr>\n",
       "    <tr>\n",
       "      <th>2</th>\n",
       "      <td>75.879455</td>\n",
       "      <td>SE</td>\n",
       "      <td>Desktop</td>\n",
       "      <td>2</td>\n",
       "      <td>Charlie</td>\n",
       "      <td>68.291509</td>\n",
       "    </tr>\n",
       "    <tr>\n",
       "      <th>3</th>\n",
       "      <td>63.879264</td>\n",
       "      <td>NE</td>\n",
       "      <td>Smartwatch</td>\n",
       "      <td>14</td>\n",
       "      <td>David</td>\n",
       "      <td>57.491337</td>\n",
       "    </tr>\n",
       "    <tr>\n",
       "      <th>4</th>\n",
       "      <td>24.041678</td>\n",
       "      <td>W</td>\n",
       "      <td>Tablet</td>\n",
       "      <td>2</td>\n",
       "      <td>Eve</td>\n",
       "      <td>21.637510</td>\n",
       "    </tr>\n",
       "    <tr>\n",
       "      <th>...</th>\n",
       "      <td>...</td>\n",
       "      <td>...</td>\n",
       "      <td>...</td>\n",
       "      <td>...</td>\n",
       "      <td>...</td>\n",
       "      <td>...</td>\n",
       "    </tr>\n",
       "    <tr>\n",
       "      <th>195</th>\n",
       "      <td>41.428862</td>\n",
       "      <td>SW</td>\n",
       "      <td>Tablet</td>\n",
       "      <td>7</td>\n",
       "      <td>Frank</td>\n",
       "      <td>37.285976</td>\n",
       "    </tr>\n",
       "    <tr>\n",
       "      <th>196</th>\n",
       "      <td>75.336011</td>\n",
       "      <td>S</td>\n",
       "      <td>Tablet</td>\n",
       "      <td>44</td>\n",
       "      <td>Grace</td>\n",
       "      <td>67.802410</td>\n",
       "    </tr>\n",
       "    <tr>\n",
       "      <th>197</th>\n",
       "      <td>90.739923</td>\n",
       "      <td>E</td>\n",
       "      <td>Tablet</td>\n",
       "      <td>16</td>\n",
       "      <td>Frank</td>\n",
       "      <td>81.665931</td>\n",
       "    </tr>\n",
       "    <tr>\n",
       "      <th>198</th>\n",
       "      <td>89.837778</td>\n",
       "      <td>SW</td>\n",
       "      <td>Tablet</td>\n",
       "      <td>20</td>\n",
       "      <td>Frank</td>\n",
       "      <td>80.854000</td>\n",
       "    </tr>\n",
       "    <tr>\n",
       "      <th>199</th>\n",
       "      <td>80.188799</td>\n",
       "      <td>N</td>\n",
       "      <td>Smartphone</td>\n",
       "      <td>36</td>\n",
       "      <td>Frank</td>\n",
       "      <td>72.169919</td>\n",
       "    </tr>\n",
       "  </tbody>\n",
       "</table>\n",
       "<p>200 rows × 6 columns</p>\n",
       "</div>"
      ],
      "text/plain": [
       "         Price Region     Product  Quantity Sold Sales Rep  Discounted_Price\n",
       "0    43.708611      W      Tablet             46     Frank         39.337750\n",
       "1    95.564288     SW      Laptop              5    Hannah         86.007859\n",
       "2    75.879455     SE     Desktop              2   Charlie         68.291509\n",
       "3    63.879264     NE  Smartwatch             14     David         57.491337\n",
       "4    24.041678      W      Tablet              2       Eve         21.637510\n",
       "..         ...    ...         ...            ...       ...               ...\n",
       "195  41.428862     SW      Tablet              7     Frank         37.285976\n",
       "196  75.336011      S      Tablet             44     Grace         67.802410\n",
       "197  90.739923      E      Tablet             16     Frank         81.665931\n",
       "198  89.837778     SW      Tablet             20     Frank         80.854000\n",
       "199  80.188799      N  Smartphone             36     Frank         72.169919\n",
       "\n",
       "[200 rows x 6 columns]"
      ]
     },
     "execution_count": 23,
     "metadata": {},
     "output_type": "execute_result"
    }
   ],
   "source": [
    "df['Discounted_Price'] = df['Price'].apply(lambda x: 0.9 * x)\n",
    "df"
   ]
  },
  {
   "cell_type": "markdown",
   "metadata": {},
   "source": [
    "### Task \n",
    "Create a new column called Taxed_Price that adds 10% to the Price column."
   ]
  },
  {
   "cell_type": "code",
   "execution_count": 24,
   "metadata": {},
   "outputs": [],
   "source": [
    "# Place code here\n"
   ]
  },
  {
   "cell_type": "markdown",
   "metadata": {},
   "source": [
    "## Exercise 3: Grouping and Summarizing Data\n",
    "\n",
    "Pandas provides the groupby method to group rows of data based on a column. This is similar to SQL's GROUP BY clause. Once data is grouped, you can aggregate it in various ways.\n",
    "\n",
    "Here's how you can find the average Price for each Region:"
   ]
  },
  {
   "cell_type": "code",
   "execution_count": 25,
   "metadata": {},
   "outputs": [
    {
     "data": {
      "text/plain": [
       "Region\n",
       "E     61.825292\n",
       "N     55.544397\n",
       "NE    47.467439\n",
       "NW    49.240748\n",
       "S     53.272173\n",
       "SE    55.251921\n",
       "SW    55.279360\n",
       "W     52.023716\n",
       "Name: Price, dtype: float64"
      ]
     },
     "execution_count": 25,
     "metadata": {},
     "output_type": "execute_result"
    }
   ],
   "source": [
    "average_price_per_region = df.groupby('Region')['Price'].mean()\n",
    "average_price_per_region"
   ]
  },
  {
   "cell_type": "markdown",
   "metadata": {},
   "source": [
    "### Task\n",
    "\n",
    "Find the total `Price` for each `Region`.\n"
   ]
  },
  {
   "cell_type": "markdown",
   "metadata": {},
   "source": []
  }
 ],
 "metadata": {
  "kernelspec": {
   "display_name": "Python 3",
   "language": "python",
   "name": "python3"
  },
  "language_info": {
   "codemirror_mode": {
    "name": "ipython",
    "version": 3
   },
   "file_extension": ".py",
   "mimetype": "text/x-python",
   "name": "python",
   "nbconvert_exporter": "python",
   "pygments_lexer": "ipython3",
   "version": "3.10.8"
  },
  "orig_nbformat": 4
 },
 "nbformat": 4,
 "nbformat_minor": 2
}
